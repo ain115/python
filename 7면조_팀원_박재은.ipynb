{
  "nbformat": 4,
  "nbformat_minor": 0,
  "metadata": {
    "colab": {
      "name": "7면조_팀원_박재은.ipynb",
      "version": "0.3.2",
      "provenance": [],
      "collapsed_sections": [],
      "include_colab_link": true
    },
    "kernelspec": {
      "name": "python3",
      "display_name": "Python 3"
    }
  },
  "cells": [
    {
      "cell_type": "markdown",
      "metadata": {
        "id": "view-in-github",
        "colab_type": "text"
      },
      "source": [
        "<a href=\"https://colab.research.google.com/github/ain115/python/blob/master/7%EB%A9%B4%EC%A1%B0_%ED%8C%80%EC%9B%90_%EB%B0%95%EC%9E%AC%EC%9D%80.ipynb\" target=\"_parent\"><img src=\"https://colab.research.google.com/assets/colab-badge.svg\" alt=\"Open In Colab\"/></a>"
      ]
    },
    {
      "cell_type": "markdown",
      "metadata": {
        "id": "rhU19-68ouJU",
        "colab_type": "text"
      },
      "source": [
        "<pre>\n",
        "print() 명령어를 사용하여 아래 정보를 출력해 주세요.\n",
        "이름 - 박재은\n",
        "전공 - 패션디자인과\n",
        "취미 - 락페스티벌다니기\n",
        "사전학습 - 파이썬(조건문까지공부)(예, 파이썬, 웹, 크롤링, 딥러닝 등)\n",
        "거주지역 - 용인 1시간 10분(등원 소요시간)\n",
        "금일 강의평가 - 아직 강의따라가는게 어려워서 헤맸지만 몰르면 물어봤을때 설명을 잘해주셔서 감사했다.\n",
        "의견 - 지금이대로 모르는사람 잘챙겨주시며 수업해주시면 감사할 것 같다.\n",
        "팀원 상호평가 - 물어보면 잘알려주셔서 감사하다.\n",
        "변수를 사용할 수 있다. \n",
        "리스트를 사용할 수 있다 \n",
        "</pre>"
      ]
    },
    {
      "cell_type": "code",
      "metadata": {
        "id": "ygE7teyguqsv",
        "colab_type": "code",
        "colab": {}
      },
      "source": [
        ""
      ],
      "execution_count": 0,
      "outputs": []
    },
    {
      "cell_type": "code",
      "metadata": {
        "id": "wIgnW9kj2SBr",
        "colab_type": "code",
        "outputId": "4f7d854f-8ee0-4d82-f996-0f26af73c99c",
        "colab": {
          "base_uri": "https://localhost:8080/",
          "height": 102
        }
      },
      "source": [
        "about_me=['이름 - 박재은','전공 - 패션디자인과','취미 - 락페스티벌다니기','사전학습 - 파이썬(조건문까지공부)','거주지역 - 용인1시간10분']\n",
        "print(about_me[0])\n",
        "print(about_me[1])\n",
        "print(about_me[2])\n",
        "print(about_me[3])\n",
        "print(about_me[4])\n"
      ],
      "execution_count": 0,
      "outputs": [
        {
          "output_type": "stream",
          "text": [
            "이름 - 박재은\n",
            "전공 - 패션디자인과\n",
            "취미 - 락페스티벌다니기\n",
            "사전학습 - 파이썬(조건문까지공부)\n",
            "거주지역 - 용인1시간10분\n"
          ],
          "name": "stdout"
        }
      ]
    },
    {
      "cell_type": "code",
      "metadata": {
        "id": "YV4Tsjo92eod",
        "colab_type": "code",
        "outputId": "8bec4661-f120-41b9-af7b-6ad9642e4f2c",
        "colab": {
          "base_uri": "https://localhost:8080/",
          "height": 68
        }
      },
      "source": [
        "teacher='강의평가 - 아직 강의 따라가는게 어려워서 헤맸지만 모르면 물어봤을때 설명을 잘해주셔서 감사했다'\n",
        "opinion='의견 - 지금이대로 모르는사람 잘챙겨주시며 수업해주시면 감사할 것 같다'\n",
        "teammate='팀원 상호평가 - 물어보면 잘알려주셔서 감사하다.'\n",
        "print(teacher)\n",
        "print(opinion)\n",
        "print(teammate)"
      ],
      "execution_count": 0,
      "outputs": [
        {
          "output_type": "stream",
          "text": [
            "강의평가 - 아직 강의 따라가는게 어려워서 헤맸지만 모르면 물어봤을때 설명을 잘해주셔서 감사했다\n",
            "의견 - 지금이대로 모르는사람 잘챙겨주시며 수업해주시면 감사할 것 같다\n",
            "팀원 상호평가 - 물어보면 잘알려주셔서 감사하다.\n"
          ],
          "name": "stdout"
        }
      ]
    },
    {
      "cell_type": "code",
      "metadata": {
        "id": "PkiViso85DOK",
        "colab_type": "code",
        "colab": {}
      },
      "source": [
        ""
      ],
      "execution_count": 0,
      "outputs": []
    }
  ]
}