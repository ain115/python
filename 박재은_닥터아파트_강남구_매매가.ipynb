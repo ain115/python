{
  "nbformat": 4,
  "nbformat_minor": 0,
  "metadata": {
    "colab": {
      "name": "박재은_닥터아파트_강남구_매매가.ipynb",
      "version": "0.3.2",
      "provenance": [],
      "collapsed_sections": [],
      "include_colab_link": true
    },
    "kernelspec": {
      "name": "python3",
      "display_name": "Python 3"
    }
  },
  "cells": [
    {
      "cell_type": "markdown",
      "metadata": {
        "id": "view-in-github",
        "colab_type": "text"
      },
      "source": [
        "<a href=\"https://colab.research.google.com/github/ain115/python/blob/master/%EB%B0%95%EC%9E%AC%EC%9D%80_%EB%8B%A5%ED%84%B0%EC%95%84%ED%8C%8C%ED%8A%B8_%EA%B0%95%EB%82%A8%EA%B5%AC_%EB%A7%A4%EB%A7%A4%EA%B0%80.ipynb\" target=\"_parent\"><img src=\"https://colab.research.google.com/assets/colab-badge.svg\" alt=\"Open In Colab\"/></a>"
      ]
    },
    {
      "cell_type": "code",
      "metadata": {
        "id": "_r36kUZcu32t",
        "colab_type": "code",
        "colab": {}
      },
      "source": [
        "import requests as req\n",
        "from bs4 import BeautifulSoup"
      ],
      "execution_count": 0,
      "outputs": []
    },
    {
      "cell_type": "code",
      "metadata": {
        "id": "-iOZ9qWbvB6L",
        "colab_type": "code",
        "colab": {}
      },
      "source": [
        "url = 'https://www.drapt.com/maemul/?page_name=gulist&menu_key=28&m_kind=28&m_type=0&mcode=146'"
      ],
      "execution_count": 0,
      "outputs": []
    },
    {
      "cell_type": "code",
      "metadata": {
        "id": "DOn--6ocvHIO",
        "colab_type": "code",
        "colab": {}
      },
      "source": [
        "res = req.get(url)"
      ],
      "execution_count": 0,
      "outputs": []
    },
    {
      "cell_type": "code",
      "metadata": {
        "id": "EGekwmznvMVa",
        "colab_type": "code",
        "colab": {}
      },
      "source": [
        "html = res.text"
      ],
      "execution_count": 0,
      "outputs": []
    },
    {
      "cell_type": "code",
      "metadata": {
        "id": "cxDwSkmxvRbu",
        "colab_type": "code",
        "colab": {}
      },
      "source": [
        "soup = BeautifulSoup(html,'html.parser')"
      ],
      "execution_count": 0,
      "outputs": []
    },
    {
      "cell_type": "code",
      "metadata": {
        "id": "GMQTWTBNvXKY",
        "colab_type": "code",
        "colab": {}
      },
      "source": [
        "#매물 table불러오기\n",
        "s1 = soup.find('table',{'class':'maemul_table001'})"
      ],
      "execution_count": 0,
      "outputs": []
    },
    {
      "cell_type": "code",
      "metadata": {
        "id": "VNeBOuBpw6l4",
        "colab_type": "code",
        "colab": {}
      },
      "source": [
        "#지역명\n",
        "area = []\n",
        "for a in s1.find_all('span',{'class':'ls-1'}):\n",
        "  r = a.text\n",
        "  area.append(r)\n"
      ],
      "execution_count": 0,
      "outputs": []
    },
    {
      "cell_type": "code",
      "metadata": {
        "id": "Gojnb4Amwgg2",
        "colab_type": "code",
        "colab": {}
      },
      "source": [
        "#매물 종류\n",
        "tp = []\n",
        "for t in s1.find_all('a',{'class':'tooltip'}):\n",
        "  y = t.text\n",
        "  tp.append(y)"
      ],
      "execution_count": 0,
      "outputs": []
    },
    {
      "cell_type": "code",
      "metadata": {
        "id": "odnEzoy4zRE8",
        "colab_type": "code",
        "outputId": "fbcc9cfa-ef45-4b8a-c1fb-08f45a26f9d2",
        "colab": {
          "base_uri": "https://localhost:8080/",
          "height": 54
        }
      },
      "source": [
        "#매물 면적 \n",
        "size = []\n",
        "for s in s1.find_all('div',{'class':'pr'}):\n",
        "  z = s.text\n",
        "  size.append(z)\n",
        "print(size)"
      ],
      "execution_count": 0,
      "outputs": [
        {
          "output_type": "stream",
          "text": [
            "['\\n\\n대지면적:280.99㎡(85평)\\n연면적:595.04㎡(180평)\\n\\n', '\\n\\n대지면적:396.7㎡(120평)\\n연면적:396.7㎡(120평)\\n\\n', '\\n\\n대지면적:249㎡(75.32평)\\n연면적:691㎡(209.02평)\\n\\n', '\\n\\n대지면적:247.94㎡(75평)\\n연면적:247.94㎡(75평)\\n\\n', '\\n\\n대지면적:231.41㎡(70평)\\n연면적:231.41㎡(70평)\\n\\n', '\\n\\n대지면적:264.46㎡(80평)\\n연면적:297㎡(90평)\\n\\n', '\\n\\n대지면적:280㎡(85평)\\n연면적:264㎡(80평)\\n\\n', '\\n\\n대지면적:231.41㎡(70평)\\n연면적:595.04㎡(180평)\\n\\n', '\\n\\n대지면적:231㎡(70평)\\n연면적:595.04㎡(180평)\\n\\n', '\\n\\n대지면적:238.02㎡(72평)\\n연면적:595.04㎡(180평)\\n\\n', '\\n\\n대지면적:267.77㎡(81평)\\n연면적:595.04㎡(180평)\\n\\n', '\\n\\n대지면적:280.99㎡(85평)\\n연면적:595.04㎡(180평)\\n\\n', '\\n\\n대지면적:280.99㎡(85평)\\n연면적:595.04㎡(180평)\\n\\n', '\\n\\n대지면적:280.99㎡(85평)\\n연면적:545.46㎡(165평)\\n\\n', '\\n\\n대지면적:280.99㎡(85평)\\n연면적:595.04㎡(180평)\\n\\n']\n"
          ],
          "name": "stdout"
        }
      ]
    },
    {
      "cell_type": "code",
      "metadata": {
        "id": "lrWrM_xvxGJ4",
        "colab_type": "code",
        "colab": {}
      },
      "source": [
        "#매물 가격\n",
        "price = []\n",
        "for p in s1.find_all('p',{'class':'ml40'}):\n",
        "  i = p.text\n",
        "  price.append(i + '만원')\n",
        "\n"
      ],
      "execution_count": 0,
      "outputs": []
    },
    {
      "cell_type": "code",
      "metadata": {
        "id": "lS0FyAmKUER6",
        "colab_type": "code",
        "colab": {}
      },
      "source": [
        "#년월일 시간\n",
        "from datetime import datetime\n",
        "from pytz import timezone\n",
        "\n",
        "# fmt = \"%Y-%m-%d %H:%M:%S %Z%z\"\n",
        "fmt = \"%Y-%m-%d %H:%M\"\n",
        " \n",
        "UTC = datetime.now(timezone('UTC'))\n",
        "KST = datetime.now(timezone('Asia/Seoul'))\n",
        "\n",
        "hour = []\n",
        "for i in range(15):\n",
        "  hour.append(KST.strftime(fmt))"
      ],
      "execution_count": 0,
      "outputs": []
    },
    {
      "cell_type": "code",
      "metadata": {
        "id": "R46a883zHMuM",
        "colab_type": "code",
        "outputId": "bee6e367-03a2-4cd4-860b-52f71a513c39",
        "colab": {
          "base_uri": "https://localhost:8080/",
          "height": 54
        }
      },
      "source": [
        "dict1 = {'지역':area, '종류':tp, '면적':size, '매매가격':price, '일시':hour}\n",
        "print(dict1)"
      ],
      "execution_count": 0,
      "outputs": [
        {
          "output_type": "stream",
          "text": [
            "{'지역': ['논현2동', '삼성2동', '삼성동', '삼성동', '청담2동', '청담2동', '청담2동', '청담동', '청담동', '청담동', '청담동', '청담동', '청담동', '청담동', '청담동'], '종류': ['다가구', '단독', '다가구', '단독', '단독', '단독', '단독', '다가구', '다가구', '다가구', '다가구', '다가구', '다가구', '다가구', '다가구'], '면적': ['\\n\\n대지면적:280.99㎡(85평)\\n연면적:595.04㎡(180평)\\n\\n', '\\n\\n대지면적:396.7㎡(120평)\\n연면적:396.7㎡(120평)\\n\\n', '\\n\\n대지면적:249㎡(75.32평)\\n연면적:691㎡(209.02평)\\n\\n', '\\n\\n대지면적:247.94㎡(75평)\\n연면적:247.94㎡(75평)\\n\\n', '\\n\\n대지면적:231.41㎡(70평)\\n연면적:231.41㎡(70평)\\n\\n', '\\n\\n대지면적:264.46㎡(80평)\\n연면적:297㎡(90평)\\n\\n', '\\n\\n대지면적:280㎡(85평)\\n연면적:264㎡(80평)\\n\\n', '\\n\\n대지면적:231.41㎡(70평)\\n연면적:595.04㎡(180평)\\n\\n', '\\n\\n대지면적:231㎡(70평)\\n연면적:595.04㎡(180평)\\n\\n', '\\n\\n대지면적:238.02㎡(72평)\\n연면적:595.04㎡(180평)\\n\\n', '\\n\\n대지면적:267.77㎡(81평)\\n연면적:595.04㎡(180평)\\n\\n', '\\n\\n대지면적:280.99㎡(85평)\\n연면적:595.04㎡(180평)\\n\\n', '\\n\\n대지면적:280.99㎡(85평)\\n연면적:595.04㎡(180평)\\n\\n', '\\n\\n대지면적:280.99㎡(85평)\\n연면적:545.46㎡(165평)\\n\\n', '\\n\\n대지면적:280.99㎡(85평)\\n연면적:595.04㎡(180평)\\n\\n'], '매매가격': ['550,000만원', '550,000만원', '270,000만원', '400,000만원', '400,000만원', '420,000만원', '500,000만원', '500,000만원', '430,000만원', '50,000만원', '497,000만원', '500,000만원', '500,000만원', '500,000만원', '500,000만원'], '일시': ['2019-09-10 12:41', '2019-09-10 12:41', '2019-09-10 12:41', '2019-09-10 12:41', '2019-09-10 12:41', '2019-09-10 12:41', '2019-09-10 12:41', '2019-09-10 12:41', '2019-09-10 12:41', '2019-09-10 12:41', '2019-09-10 12:41', '2019-09-10 12:41', '2019-09-10 12:41', '2019-09-10 12:41', '2019-09-10 12:41']}\n"
          ],
          "name": "stdout"
        }
      ]
    },
    {
      "cell_type": "code",
      "metadata": {
        "id": "0C7n0SsSNKUK",
        "colab_type": "code",
        "colab": {}
      },
      "source": [
        "import pandas as pd\n",
        "df = pd.DataFrame(dict1)"
      ],
      "execution_count": 0,
      "outputs": []
    },
    {
      "cell_type": "code",
      "metadata": {
        "id": "DxNhsh17Ooy9",
        "colab_type": "code",
        "colab": {}
      },
      "source": [
        "df.to_csv('maemul.csv', sep=',')"
      ],
      "execution_count": 0,
      "outputs": []
    },
    {
      "cell_type": "code",
      "metadata": {
        "id": "IpvdTEETO5BS",
        "colab_type": "code",
        "colab": {}
      },
      "source": [
        ""
      ],
      "execution_count": 0,
      "outputs": []
    },
    {
      "cell_type": "code",
      "metadata": {
        "id": "WjAiVI23SEsc",
        "colab_type": "code",
        "colab": {}
      },
      "source": [
        ""
      ],
      "execution_count": 0,
      "outputs": []
    }
  ]
}